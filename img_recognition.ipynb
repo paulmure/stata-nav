{
 "cells": [
  {
   "cell_type": "code",
   "execution_count": 57,
   "metadata": {},
   "outputs": [],
   "source": [
    "%matplotlib inline\n",
    "%config InlineBackend.figure_format = 'retina'\n",
    "\n",
    "import matplotlib.pyplot as plt\n",
    "\n",
    "import torch\n",
    "import torch.nn as nn\n",
    "from torchvision import datasets, transforms\n",
    "from torchvision.models import resnet50, ResNet50_Weights\n",
    "import torch.optim as optim\n"
   ]
  },
  {
   "cell_type": "code",
   "execution_count": 58,
   "metadata": {},
   "outputs": [],
   "source": [
    "transform = transforms.Compose([transforms.Resize((224, 224)), transforms.ToTensor()])\n",
    "dataset = datasets.ImageFolder('stata_dataset', transform=transform)\n",
    "\n",
    "train, val = torch.utils.data.random_split(dataset, [0.8, 0.2])\n",
    "train_loader = torch.utils.data.DataLoader(train, batch_size=32, shuffle=True)\n",
    "val_loader = torch.utils.data.DataLoader(val, batch_size=32, shuffle=False)"
   ]
  },
  {
   "cell_type": "code",
   "execution_count": 81,
   "metadata": {},
   "outputs": [],
   "source": [
    "class StataModel(torch.nn.Module):\n",
    "\n",
    "    def __init__(self):\n",
    "        super(StataModel, self).__init__()\n",
    "        \n",
    "        resnet = resnet50(weights=ResNet50_Weights.DEFAULT)\n",
    "        resnet_layers = list(resnet.children())[:-1]\n",
    "        self.resnet_layers = nn.Sequential(*resnet_layers)\n",
    "        for param in self.resnet_layers.parameters():\n",
    "            param.requires_grad = False\n",
    "        \n",
    "        self.linear = nn.Linear(2048, len(dataset.classes))\n",
    "\n",
    "    def forward(self, x):\n",
    "        x = self.resnet_layers(x)\n",
    "        x = torch.squeeze(x)\n",
    "        x = self.linear(x)\n",
    "        return x\n",
    "    "
   ]
  },
  {
   "cell_type": "code",
   "execution_count": 82,
   "metadata": {},
   "outputs": [],
   "source": [
    "stata_model = StataModel()"
   ]
  },
  {
   "cell_type": "code",
   "execution_count": 83,
   "metadata": {},
   "outputs": [],
   "source": [
    "criterion = nn.CrossEntropyLoss()\n",
    "optimizer = optim.Adam(stata_model.parameters())"
   ]
  },
  {
   "cell_type": "code",
   "execution_count": 86,
   "metadata": {},
   "outputs": [],
   "source": [
    "def test_model(net):\n",
    "    correct_pred = 0\n",
    "    total_pred = 0\n",
    "\n",
    "    with torch.no_grad():\n",
    "        for data in val_loader:\n",
    "            images, labels = data\n",
    "            outputs = net(images)\n",
    "            _, predictions = torch.max(outputs, 1)\n",
    "            for label, prediction in zip(labels, predictions):\n",
    "                if label == prediction:\n",
    "                    correct_pred += 1\n",
    "                total_pred += 1\n",
    "\n",
    "    accuracy = 100 * float(correct_pred) / total_pred\n",
    "    print(f'Test accuracy is {accuracy:.1f} %')\n",
    "        \n",
    "def train(net):\n",
    "    for epoch in range(10):  # loop over the dataset multiple times\n",
    "        running_loss = 0.0\n",
    "        for i, data in enumerate(train_loader, 0):\n",
    "            # get the inputs; data is a list of [inputs, labels]\n",
    "            inputs, labels = data\n",
    "\n",
    "            # zero the parameter gradients\n",
    "            optimizer.zero_grad()\n",
    "\n",
    "            # forward + backward + optimize\n",
    "            outputs = stata_model(inputs)\n",
    "            loss = criterion(outputs, labels)\n",
    "            loss.backward()\n",
    "            optimizer.step()\n",
    "\n",
    "            running_loss += loss.item()\n",
    "        \n",
    "        print(f'{epoch}: loss: {running_loss}')\n",
    "        test_model(net)\n",
    "\n",
    "    print('Finished Training')"
   ]
  },
  {
   "cell_type": "code",
   "execution_count": 87,
   "metadata": {},
   "outputs": [
    {
     "name": "stdout",
     "output_type": "stream",
     "text": [
      "0: loss: 5.763929724693298\n",
      "Test accuracy is 29.4 %\n",
      "1: loss: 5.479592680931091\n",
      "Test accuracy is 29.4 %\n",
      "2: loss: 4.971322536468506\n",
      "Test accuracy is 29.4 %\n",
      "3: loss: 4.7355101108551025\n",
      "Test accuracy is 29.4 %\n",
      "4: loss: 4.441720604896545\n",
      "Test accuracy is 29.4 %\n",
      "5: loss: 4.331196427345276\n",
      "Test accuracy is 29.4 %\n",
      "6: loss: 4.044917821884155\n",
      "Test accuracy is 29.4 %\n",
      "7: loss: 3.644752860069275\n",
      "Test accuracy is 41.2 %\n",
      "8: loss: 3.487971544265747\n",
      "Test accuracy is 41.2 %\n",
      "9: loss: 3.054932177066803\n",
      "Test accuracy is 41.2 %\n",
      "Finished Training\n"
     ]
    }
   ],
   "source": [
    "train(stata_model)"
   ]
  },
  {
   "cell_type": "code",
   "execution_count": null,
   "metadata": {},
   "outputs": [],
   "source": []
  }
 ],
 "metadata": {
  "kernelspec": {
   "display_name": "Python 3",
   "language": "python",
   "name": "python3"
  },
  "language_info": {
   "codemirror_mode": {
    "name": "ipython",
    "version": 3
   },
   "file_extension": ".py",
   "mimetype": "text/x-python",
   "name": "python",
   "nbconvert_exporter": "python",
   "pygments_lexer": "ipython3",
   "version": "3.12.2"
  }
 },
 "nbformat": 4,
 "nbformat_minor": 2
}
